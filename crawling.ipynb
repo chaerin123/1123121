{
  "nbformat": 4,
  "nbformat_minor": 0,
  "metadata": {
    "colab": {
      "provenance": [],
      "authorship_tag": "ABX9TyPUNKoEt3bVQWaW0MKdv9bv",
      "include_colab_link": true
    },
    "kernelspec": {
      "name": "python3",
      "display_name": "Python 3"
    },
    "language_info": {
      "name": "python"
    }
  },
  "cells": [
    {
      "cell_type": "markdown",
      "metadata": {
        "id": "view-in-github",
        "colab_type": "text"
      },
      "source": [
        "<a href=\"https://colab.research.google.com/github/chaerin123/1123121/blob/master/crawling.ipynb\" target=\"_parent\"><img src=\"https://colab.research.google.com/assets/colab-badge.svg\" alt=\"Open In Colab\"/></a>"
      ]
    },
    {
      "cell_type": "markdown",
      "source": [
        "##실습 과제 2. Crawling\n",
        "소프트웨어학과 202121284 황채린"
      ],
      "metadata": {
        "id": "GiHaF73JFDy1"
      }
    },
    {
      "cell_type": "code",
      "source": [
        "!pip install pandas"
      ],
      "metadata": {
        "colab": {
          "base_uri": "https://localhost:8080/"
        },
        "id": "LaVKonGXFI7T",
        "outputId": "5f428db1-d7bb-481d-ad64-6b645487a5b4"
      },
      "execution_count": 1,
      "outputs": [
        {
          "output_type": "stream",
          "name": "stdout",
          "text": [
            "Requirement already satisfied: pandas in /usr/local/lib/python3.10/dist-packages (1.5.3)\n",
            "Requirement already satisfied: python-dateutil>=2.8.1 in /usr/local/lib/python3.10/dist-packages (from pandas) (2.8.2)\n",
            "Requirement already satisfied: pytz>=2020.1 in /usr/local/lib/python3.10/dist-packages (from pandas) (2023.4)\n",
            "Requirement already satisfied: numpy>=1.21.0 in /usr/local/lib/python3.10/dist-packages (from pandas) (1.25.2)\n",
            "Requirement already satisfied: six>=1.5 in /usr/local/lib/python3.10/dist-packages (from python-dateutil>=2.8.1->pandas) (1.16.0)\n"
          ]
        }
      ]
    },
    {
      "cell_type": "code",
      "source": [
        "#실습과제1. 네이버 이미지에서 '음식'사진을 200장 이상 수집\n",
        "\n",
        "import os\n",
        "import sys\n",
        "import urllib.request\n",
        "import ssl\n",
        "import urllib.parse\n",
        "import pandas as pd\n",
        "import json\n",
        "\n",
        "client_id = \"hXWMrMK6afJjqDysjj6t\"\n",
        "client_secret = \"TOTABYz3R5\"\n",
        "\n",
        "encText = urllib.parse.quote(\"음식\")\n",
        "\n",
        "for start in range(1, 201, 100):\n",
        "  url = \"https://openapi.naver.com/v1/search/image?query=\" + encText+\"&display=100&start=\" + str(start)\n",
        "  request = urllib.request.Request(url)\n",
        "  request.add_header(\"X-Naver-Client-Id\",client_id)\n",
        "  request.add_header(\"X-Naver-Client-Secret\",client_secret)\n",
        "\n",
        "  response = urllib.request.urlopen(request)\n",
        "  rescode = response.getcode()\n",
        "\n",
        "  if(rescode==200):\n",
        "    response_body = response.read()\n",
        "    print(response_body.decode('utf-8'))\n",
        "\n",
        "  else:\n",
        "    print(\"Error Code:\" + rescode)\n",
        "\n",
        "  print (url)"
      ],
      "metadata": {
        "id": "ZPbRlgPLFJxb"
      },
      "execution_count": null,
      "outputs": []
    },
    {
      "cell_type": "code",
      "source": [
        "#실습과제2. 네이버 블로그, 뉴스, 책 등에서 원하는 키워드를 바탕으로 1000개 이상의 검색 데이터를 수집\n",
        "import os\n",
        "import sys\n",
        "import urllib.request\n",
        "import ssl\n",
        "import urllib.parse\n",
        "import pandas as pd\n",
        "import json\n",
        "\n",
        "client_id = \"hXWMrMK6afJjqDysjj6t\"\n",
        "client_secret = \"TOTABYz3R5\"\n",
        "\n",
        "encText = urllib.parse.quote(\"공부\")\n",
        "\n",
        "for start in range(1, 1001, 100):\n",
        "  url = \"https://openapi.naver.com/v1/search/book?query=\" + encText+\"&display=100&start=\" + str(start)\n",
        "  request = urllib.request.Request(url)\n",
        "  request.add_header(\"X-Naver-Client-Id\",client_id)\n",
        "  request.add_header(\"X-Naver-Client-Secret\",client_secret)\n",
        "\n",
        "  response = urllib.request.urlopen(request)\n",
        "  rescode = response.getcode()\n",
        "\n",
        "  if(rescode==200):\n",
        "    response_body = response.read()\n",
        "    print(response_body.decode('utf-8'))\n",
        "\n",
        "  else:\n",
        "    print(\"Error Code:\" + rescode)\n",
        "\n",
        "  print (url)"
      ],
      "metadata": {
        "id": "0GHPM6WTFM2l"
      },
      "execution_count": null,
      "outputs": []
    },
    {
      "cell_type": "code",
      "source": [
        "#실습과제 1,2에서 수집한 텍스트, 엑셀, 이미지 파일을 저장해서 코드 파일과 같이 제출\n",
        "\n",
        "#1번 엑셀 파일 만들기\n",
        "import os\n",
        "import sys\n",
        "import urllib.request\n",
        "import ssl\n",
        "import urllib.parse\n",
        "import pandas as pd\n",
        "import json\n",
        "\n",
        "client_id = \"hXWMrMK6afJjqDysjj6t\"\n",
        "client_secret = \"TOTABYz3R5\"\n",
        "\n",
        "encText = urllib.parse.quote(\"음식\")\n",
        "\n",
        "image_data = [] # 빈 리스트 생성 (이미지 정보 저장용)\n",
        "\n",
        "for start in range(1, 201, 100):\n",
        "  url = \"https://openapi.naver.com/v1/search/image?query=\" + encText+\"&display=100&start=\" + str(start)\n",
        "  request = urllib.request.Request(url)\n",
        "  request.add_header(\"X-Naver-Client-Id\",client_id)\n",
        "  request.add_header(\"X-Naver-Client-Secret\",client_secret)\n",
        "\n",
        "  response = urllib.request.urlopen(request)\n",
        "  rescode = response.getcode()\n",
        "\n",
        "  if(rescode==200):\n",
        "    response_body = response.read()\n",
        "    result=json.loads(response_body.decode('utf-8'))\n",
        "    image_data.extend(result['items'])\n",
        "\n",
        "  else:\n",
        "    print(\"Error Code:\" + rescode)\n",
        "\n",
        "  print (url)\n",
        "\n",
        "  df = pd.DataFrame(image_data)# 리스트를 DataFrame으로 변환\n",
        "  df.to_excel('naver_image_search_results.xlsx', index=False)# DataFrame을 엑셀 파일로 저장"
      ],
      "metadata": {
        "id": "UrdQtCx9FRM3"
      },
      "execution_count": null,
      "outputs": []
    },
    {
      "cell_type": "code",
      "source": [
        "#실습과제 2번 엑셀파일 만들기\n",
        "import os\n",
        "import sys\n",
        "import urllib.request\n",
        "import ssl\n",
        "import urllib.parse\n",
        "import pandas as pd\n",
        "import json\n",
        "\n",
        "client_id = \"hXWMrMK6afJjqDysjj6t\"\n",
        "client_secret = \"TOTABYz3R5\"\n",
        "\n",
        "encText = urllib.parse.quote(\"공부\")\n",
        "study_data = []\n",
        "\n",
        "for start in range(1, 1001, 100):\n",
        "  url = \"https://openapi.naver.com/v1/search/book?query=\" + encText+\"&display=100&start=\" + str(start)\n",
        "  request = urllib.request.Request(url)\n",
        "  request.add_header(\"X-Naver-Client-Id\",client_id)\n",
        "  request.add_header(\"X-Naver-Client-Secret\",client_secret)\n",
        "\n",
        "  response = urllib.request.urlopen(request)\n",
        "  rescode = response.getcode()\n",
        "\n",
        "  if(rescode==200):\n",
        "    response_body = response.read()\n",
        "    result=json.loads(response_body.decode('utf-8'))\n",
        "    study_data.extend(result['items'])\n",
        "\n",
        "  else:\n",
        "    print(\"Error Code:\" + rescode)\n",
        "\n",
        "  print (url)\n",
        "\n",
        "  df = pd.DataFrame(study_data)\n",
        "  df.to_excel('study_search.xlsx', index=False)"
      ],
      "metadata": {
        "id": "bP2e9_yCFWNr"
      },
      "execution_count": null,
      "outputs": []
    },
    {
      "cell_type": "code",
      "source": [
        "#1번 실습과제 _ 이미지 저장\n",
        "import os\n",
        "import sys\n",
        "import urllib.request\n",
        "import ssl\n",
        "import urllib.parse\n",
        "import json\n",
        "import pandas as pd\n",
        "#from PIL import Image\n",
        "\n",
        "client_id = \"hXWMrMK6afJjqDysjj6t\"\n",
        "client_secret = \"TOTABYz3R5\"\n",
        "\n",
        "encText = urllib.parse.quote(\"음식\")\n",
        "\n",
        "# 이미지 데이터를 저장할 빈 리스트 생성\n",
        "image_data = []\n",
        "\n",
        "for start in range(1, 201, 100):\n",
        "    url = \"https://openapi.naver.com/v1/search/image?query=\" + encText+\"&display=100&start=\" + str(start)\n",
        "    request = urllib.request.Request(url)\n",
        "    request.add_header(\"X-Naver-Client-Id\", client_id)\n",
        "    request.add_header(\"X-Naver-Client-Secret\", client_secret)\n",
        "\n",
        "    response = urllib.request.urlopen(request)\n",
        "    rescode = response.getcode()\n",
        "\n",
        "    if rescode == 200:\n",
        "        response_body = response.read()\n",
        "        result = json.loads(response_body.decode('utf-8'))\n",
        "        image_data.extend(result['items'])\n",
        "    else:\n",
        "        print(\"Error Code:\", rescode)\n",
        "\n",
        "    print(url)\n",
        "\n",
        "# 데이터프레임 생성\n",
        "df = pd.DataFrame(image_data)\n",
        "\n",
        "# 이미지 파일 다운로드 및 저장\n",
        "for index, row in df.iterrows():\n",
        "    try:\n",
        "        # 이미지 URL에서 이미지를 다운로드하여 저장\n",
        "        image_url = row['link']\n",
        "        #한 행(row)에서 link라는 열에 해당하는 값을 가져와서 변수(image_url)에 저장\n",
        "        urllib.request.urlretrieve(image_url, \"image_%d.jpg\" % index)\n",
        "        print(\"Image %d saved.\" % index)\n",
        "    except Exception as e:\n",
        "        print(\"Error saving image %d: %s\" % (index, e))"
      ],
      "metadata": {
        "id": "tqK-KISXFZ3e"
      },
      "execution_count": null,
      "outputs": []
    },
    {
      "cell_type": "code",
      "source": [
        "#2번 실습과제 _ 이미지 저장\n",
        "import os\n",
        "import sys\n",
        "import urllib.request\n",
        "import ssl\n",
        "import urllib.parse\n",
        "import json\n",
        "import pandas as pd\n",
        "\n",
        "client_id = \"hXWMrMK6afJjqDysjj6t\"\n",
        "client_secret = \"TOTABYz3R5\"\n",
        "\n",
        "encText = urllib.parse.quote(\"공부\")\n",
        "\n",
        "image2_data = []\n",
        "\n",
        "for start in range(1, 1001, 100):\n",
        "  url = \"https://openapi.naver.com/v1/search/image?query=\" + encText+\"&display=100&start=\" + str(start)\n",
        "  #책 카테고리의 url에서 데이터를 수집하려 했으나 이미지 파일이 저장이 안되어서 이미지 카테고리의 url을 사용해서 이미지 자료를 수집했습니다\n",
        "  request = urllib.request.Request(url)\n",
        "  request.add_header(\"X-Naver-Client-Id\",client_id)\n",
        "  request.add_header(\"X-Naver-Client-Secret\",client_secret)\n",
        "\n",
        "  response = urllib.request.urlopen(request)\n",
        "  rescode = response.getcode()\n",
        "\n",
        "  if rescode == 200:\n",
        "    response_body = response.read()\n",
        "    result = json.loads(response_body.decode('utf-8'))\n",
        "    image2_data.extend(result['items'])\n",
        "\n",
        "  else:\n",
        "    print(\"Error Code:\" + rescode)\n",
        "\n",
        "  print (url)\n",
        "\n",
        "df = pd.DataFrame(image2_data)\n",
        "\n",
        "for index, row in df.iterrows():\n",
        "  try:\n",
        "        image_url = row['link']\n",
        "\n",
        "        urllib.request.urlretrieve(image_url, \"image_%d.jpg\" % index)\n",
        "        print(\"Image %d saved.\" % index)\n",
        "  except Exception as e:\n",
        "        print(\"Error saving image %d: %s\" % (index, e))\n"
      ],
      "metadata": {
        "id": "qQKuMnLeFcsX"
      },
      "execution_count": null,
      "outputs": []
    }
  ]
}